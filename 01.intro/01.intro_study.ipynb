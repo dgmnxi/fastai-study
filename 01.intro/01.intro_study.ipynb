{
 "cells": [
  {
   "cell_type": "markdown",
   "id": "0479cbfc",
   "metadata": {},
   "source": [
    "# About DeepLearning\n",
    "---\n",
    " - DeepLearing(DL) is extract and transform data ranging from human speech recongintion to image classfication by using layers of neural networks\n",
    " - DL is part of Machine Learing(DL)\n",
    "## What DL deals with?\n",
    "- Face recongition\n",
    "- Satellite and drone recognition\n",
    "- reading traffic / pedestrians\n",
    "- Finding anomalies in CT,MRI,X-ray images\n",
    "- Image generation\n",
    "- etc.."
   ]
  },
  {
   "cell_type": "markdown",
   "id": "9dbba8bb",
   "metadata": {},
   "source": [
    "---\n",
    "## So what is ML?\n",
    " - ML is a specific program to achieve specific tasks\n",
    " - Unlike non-ML programs, ML doesn't get the exact steps to solve a problem,but take some examples of the problem of solve, and figure it out how to solve it **itself** \n",
    "> As IBM researcher named Aruther Samuel noted in 1962 essay \"Artificial Intelligence: A Frontier of Automation\", ML needs 3 factors: **inputs, weights and update** - change weights to maximize performence.\n",
    "\n",
    "#### *Limits of ML*\n",
    "- A model cannot be created without data.\n",
    "- A model can only learn to operate on the patterns seen in the input data used to train it.\n",
    "- This learning approach only creates *predictions*, not recommended *actions*.\n",
    "- It's not enough to just have examples of input data; we need *labels* for that data too (e.g., pictures of dogs and cats aren't enough to train a model; we need a label for each one, saying which ones are dogs, and which are cats).\n",
    "\n",
    "Note: Supervised Learning"
   ]
  },
  {
   "cell_type": "markdown",
   "id": "b1881d52",
   "metadata": {},
   "source": [
    "## Emerge of Neural Network\n",
    " - Due to those limitations, Neural Network \n",
    " was introduced, when unlabeled data is given, itself updates its weights giving output trained all by itself.\n",
    "  - To achieve this,*stochastic gradient descent* (SGD) and universal approximation theorem are used.\n",
    "  - So, all we have to do is giving Network , data many as possible.\n",
    "\n",
    "Note : Unsupervised Learning"
   ]
  }
 ],
 "metadata": {
  "kernelspec": {
   "display_name": ".venv",
   "language": "python",
   "name": "python3"
  },
  "language_info": {
   "name": "python",
   "version": "3.10.11"
  }
 },
 "nbformat": 4,
 "nbformat_minor": 5
}
